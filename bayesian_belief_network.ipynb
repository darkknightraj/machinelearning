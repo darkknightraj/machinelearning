{
  "nbformat": 4,
  "nbformat_minor": 0,
  "metadata": {
    "colab": {
      "provenance": [],
      "authorship_tag": "ABX9TyOQmsuVoLMUg9kRUIGo8KIM",
      "include_colab_link": true
    },
    "kernelspec": {
      "name": "python3",
      "display_name": "Python 3"
    },
    "language_info": {
      "name": "python"
    }
  },
  "cells": [
    {
      "cell_type": "markdown",
      "metadata": {
        "id": "view-in-github",
        "colab_type": "text"
      },
      "source": [
        "<a href=\"https://colab.research.google.com/github/darkknightraj/machinelearning/blob/main/bayesian_belief_network.ipynb\" target=\"_parent\"><img src=\"https://colab.research.google.com/assets/colab-badge.svg\" alt=\"Open In Colab\"/></a>"
      ]
    },
    {
      "cell_type": "code",
      "execution_count": null,
      "metadata": {
        "id": "-zueoeT7y5vg"
      },
      "outputs": [],
      "source": [
        "import pgmpy.models\n",
        "import pgmpy.inference\n",
        "import networkx as nx\n",
        "import pylab as plt"
      ]
    },
    {
      "cell_type": "code",
      "source": [
        "alarm_model = pgmpy.models.BayesianNetwork([('Burglary', 'Alarm'), \n",
        "                                    ('Earthquake', 'Alarm'),\n",
        "                                    ('Alarm', 'JohnCalls'), \n",
        "                                    ('Alarm', 'MaryCalls')])"
      ],
      "metadata": {
        "id": "f_AZx1_By9k6"
      },
      "execution_count": null,
      "outputs": []
    },
    {
      "cell_type": "code",
      "source": [
        "from pgmpy.factors.discrete import TabularCPD\n",
        "\n",
        "cpd_burglary = TabularCPD(variable='Burglary', variable_card=2,\n",
        "                      values=[[.999], [0.001]])\n",
        "cpd_earthquake = TabularCPD(variable='Earthquake', variable_card=2,\n",
        "                       values=[[0.998], [0.002]])\n",
        "cpd_alarm = TabularCPD(variable='Alarm', variable_card=2,\n",
        "                        values=[[0.999, 0.71, 0.06, 0.05],\n",
        "                                [0.001, 0.29, 0.94, 0.95]],\n",
        "                        evidence=['Burglary', 'Earthquake'],\n",
        "                        evidence_card=[2, 2])\n",
        "cpd_johncalls = TabularCPD(variable='JohnCalls', variable_card=2,\n",
        "                      values=[[0.95, 0.1], [0.05, 0.9]],\n",
        "                      evidence=['Alarm'], evidence_card=[2])\n",
        "cpd_marycalls = TabularCPD(variable='MaryCalls', variable_card=2,\n",
        "                      values=[[0.1, 0.7], [0.9, 0.3]],\n",
        "                      evidence=['Alarm'], evidence_card=[2])\n"
      ],
      "metadata": {
        "id": "itGBvX0z0eKk"
      },
      "execution_count": 17,
      "outputs": []
    },
    {
      "cell_type": "code",
      "source": [
        "alarm_model.add_cpds(cpd_burglary, cpd_earthquake, cpd_alarm, cpd_johncalls, cpd_marycalls)"
      ],
      "metadata": {
        "id": "9ZWyHp-g22gf"
      },
      "execution_count": 19,
      "outputs": []
    },
    {
      "cell_type": "code",
      "source": [
        "alarm_model.check_model()"
      ],
      "metadata": {
        "colab": {
          "base_uri": "https://localhost:8080/"
        },
        "id": "4mdGiSFl29id",
        "outputId": "d586ea3a-0781-4c81-a09b-6e44fee6cd4f"
      },
      "execution_count": 20,
      "outputs": [
        {
          "output_type": "execute_result",
          "data": {
            "text/plain": [
              "True"
            ]
          },
          "metadata": {},
          "execution_count": 20
        }
      ]
    },
    {
      "cell_type": "code",
      "source": [
        "alarm_model.nodes()"
      ],
      "metadata": {
        "colab": {
          "base_uri": "https://localhost:8080/"
        },
        "id": "y5qfNPTR2-wc",
        "outputId": "9509c777-8899-4f06-ef2a-505c751c9fb9"
      },
      "execution_count": 21,
      "outputs": [
        {
          "output_type": "execute_result",
          "data": {
            "text/plain": [
              "NodeView(('Burglary', 'Alarm', 'Earthquake', 'JohnCalls', 'MaryCalls'))"
            ]
          },
          "metadata": {},
          "execution_count": 21
        }
      ]
    },
    {
      "cell_type": "code",
      "source": [
        "alarm_model.edges()"
      ],
      "metadata": {
        "colab": {
          "base_uri": "https://localhost:8080/"
        },
        "id": "DZgVJDw43CUl",
        "outputId": "6c2ebc3c-453d-4a76-a526-351a21a72af2"
      },
      "execution_count": 22,
      "outputs": [
        {
          "output_type": "execute_result",
          "data": {
            "text/plain": [
              "OutEdgeView([('Burglary', 'Alarm'), ('Alarm', 'JohnCalls'), ('Alarm', 'MaryCalls'), ('Earthquake', 'Alarm')])"
            ]
          },
          "metadata": {},
          "execution_count": 22
        }
      ]
    },
    {
      "cell_type": "code",
      "source": [
        "alarm_model.local_independencies('Burglary')"
      ],
      "metadata": {
        "colab": {
          "base_uri": "https://localhost:8080/"
        },
        "id": "URFBq2hi3FDs",
        "outputId": "57d013db-ca2d-4efc-c2de-34761cb0ede7"
      },
      "execution_count": 23,
      "outputs": [
        {
          "output_type": "execute_result",
          "data": {
            "text/plain": [
              "(Burglary ⟂ Earthquake)"
            ]
          },
          "metadata": {},
          "execution_count": 23
        }
      ]
    },
    {
      "cell_type": "code",
      "source": [
        "alarm_model.get_independencies()"
      ],
      "metadata": {
        "colab": {
          "base_uri": "https://localhost:8080/"
        },
        "id": "xijl36WL3LVA",
        "outputId": "e2552cf1-095f-4059-a6ab-668487725dc8"
      },
      "execution_count": 24,
      "outputs": [
        {
          "output_type": "execute_result",
          "data": {
            "text/plain": [
              "(Burglary ⟂ Earthquake)\n",
              "(Burglary ⟂ JohnCalls, MaryCalls | Alarm)\n",
              "(Burglary ⟂ JohnCalls, MaryCalls | Earthquake, Alarm)\n",
              "(Burglary ⟂ MaryCalls | Alarm, JohnCalls)\n",
              "(Burglary ⟂ JohnCalls | Alarm, MaryCalls)\n",
              "(Burglary ⟂ MaryCalls | Earthquake, Alarm, JohnCalls)\n",
              "(Burglary ⟂ JohnCalls | Earthquake, Alarm, MaryCalls)\n",
              "(MaryCalls ⟂ Earthquake, Burglary, JohnCalls | Alarm)\n",
              "(MaryCalls ⟂ Burglary, JohnCalls | Earthquake, Alarm)\n",
              "(MaryCalls ⟂ Earthquake, JohnCalls | Alarm, Burglary)\n",
              "(MaryCalls ⟂ Earthquake, Burglary | Alarm, JohnCalls)\n",
              "(MaryCalls ⟂ JohnCalls | Earthquake, Alarm, Burglary)\n",
              "(MaryCalls ⟂ Burglary | Earthquake, Alarm, JohnCalls)\n",
              "(MaryCalls ⟂ Earthquake | Alarm, Burglary, JohnCalls)\n",
              "(Earthquake ⟂ Burglary)\n",
              "(Earthquake ⟂ JohnCalls, MaryCalls | Alarm)\n",
              "(Earthquake ⟂ JohnCalls, MaryCalls | Alarm, Burglary)\n",
              "(Earthquake ⟂ MaryCalls | Alarm, JohnCalls)\n",
              "(Earthquake ⟂ JohnCalls | Alarm, MaryCalls)\n",
              "(Earthquake ⟂ MaryCalls | Alarm, Burglary, JohnCalls)\n",
              "(Earthquake ⟂ JohnCalls | Alarm, Burglary, MaryCalls)\n",
              "(JohnCalls ⟂ Earthquake, Burglary, MaryCalls | Alarm)\n",
              "(JohnCalls ⟂ Burglary, MaryCalls | Earthquake, Alarm)\n",
              "(JohnCalls ⟂ Earthquake, MaryCalls | Alarm, Burglary)\n",
              "(JohnCalls ⟂ Earthquake, Burglary | Alarm, MaryCalls)\n",
              "(JohnCalls ⟂ MaryCalls | Earthquake, Alarm, Burglary)\n",
              "(JohnCalls ⟂ Burglary | Earthquake, Alarm, MaryCalls)\n",
              "(JohnCalls ⟂ Earthquake | Alarm, Burglary, MaryCalls)"
            ]
          },
          "metadata": {},
          "execution_count": 24
        }
      ]
    }
  ]
}