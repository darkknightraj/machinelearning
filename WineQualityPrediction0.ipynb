{
  "nbformat": 4,
  "nbformat_minor": 0,
  "metadata": {
    "colab": {
      "provenance": [],
      "authorship_tag": "ABX9TyOmSnKWrKiga5iR6NbHvk1i",
      "include_colab_link": true
    },
    "kernelspec": {
      "name": "python3",
      "display_name": "Python 3"
    },
    "language_info": {
      "name": "python"
    }
  },
  "cells": [
    {
      "cell_type": "markdown",
      "metadata": {
        "id": "view-in-github",
        "colab_type": "text"
      },
      "source": [
        "<a href=\"https://colab.research.google.com/github/darkknightraj/machinelearning/blob/main/WineQualityPrediction0.ipynb\" target=\"_parent\"><img src=\"https://colab.research.google.com/assets/colab-badge.svg\" alt=\"Open In Colab\"/></a>"
      ]
    },
    {
      "cell_type": "code",
      "execution_count": 1,
      "metadata": {
        "id": "dn81FDZM3Sc9"
      },
      "outputs": [],
      "source": [
        "import numpy as np\n",
        "import pandas as pd\n",
        "import matplotlib.pyplot as plt\n",
        "import seaborn as sb\n",
        "\n",
        "from sklearn.model_selection import train_test_split\n",
        "from sklearn.preprocessing import MinMaxScaler\n",
        "from sklearn import metrics\n",
        "from sklearn.svm import SVC\n",
        "from xgboost import XGBClassifier\n",
        "from sklearn.linear_model import LogisticRegression\n",
        "\n",
        "import warnings\n",
        "warnings.filterwarnings('ignore')\n"
      ]
    },
    {
      "cell_type": "code",
      "source": [
        "df = pd.read_csv('winequalityN.csv')\n",
        "print(df.head())\n"
      ],
      "metadata": {
        "colab": {
          "base_uri": "https://localhost:8080/"
        },
        "id": "utZ5NUbI3gpw",
        "outputId": "f8b17c4b-9263-4af1-d288-23704cce9692"
      },
      "execution_count": 2,
      "outputs": [
        {
          "output_type": "stream",
          "name": "stdout",
          "text": [
            "    type  fixed acidity  volatile acidity  citric acid  residual sugar  \\\n",
            "0  white            7.0              0.27         0.36            20.7   \n",
            "1  white            6.3              0.30         0.34             1.6   \n",
            "2  white            8.1              0.28         0.40             6.9   \n",
            "3  white            7.2              0.23         0.32             8.5   \n",
            "4  white            7.2              0.23         0.32             8.5   \n",
            "\n",
            "   chlorides  free sulfur dioxide  total sulfur dioxide  density    pH  \\\n",
            "0      0.045                 45.0                 170.0   1.0010  3.00   \n",
            "1      0.049                 14.0                 132.0   0.9940  3.30   \n",
            "2      0.050                 30.0                  97.0   0.9951  3.26   \n",
            "3      0.058                 47.0                 186.0   0.9956  3.19   \n",
            "4      0.058                 47.0                 186.0   0.9956  3.19   \n",
            "\n",
            "   sulphates  alcohol  quality  \n",
            "0       0.45      8.8        6  \n",
            "1       0.49      9.5        6  \n",
            "2       0.44     10.1        6  \n",
            "3       0.40      9.9        6  \n",
            "4       0.40      9.9        6  \n"
          ]
        }
      ]
    },
    {
      "cell_type": "code",
      "source": [
        "df.info()\n"
      ],
      "metadata": {
        "colab": {
          "base_uri": "https://localhost:8080/"
        },
        "id": "fg5_SRXV3xoC",
        "outputId": "d6221ca2-0d96-435b-805f-c43105bdf227"
      },
      "execution_count": 3,
      "outputs": [
        {
          "output_type": "stream",
          "name": "stdout",
          "text": [
            "<class 'pandas.core.frame.DataFrame'>\n",
            "RangeIndex: 6497 entries, 0 to 6496\n",
            "Data columns (total 13 columns):\n",
            " #   Column                Non-Null Count  Dtype  \n",
            "---  ------                --------------  -----  \n",
            " 0   type                  6497 non-null   object \n",
            " 1   fixed acidity         6487 non-null   float64\n",
            " 2   volatile acidity      6489 non-null   float64\n",
            " 3   citric acid           6494 non-null   float64\n",
            " 4   residual sugar        6495 non-null   float64\n",
            " 5   chlorides             6495 non-null   float64\n",
            " 6   free sulfur dioxide   6497 non-null   float64\n",
            " 7   total sulfur dioxide  6497 non-null   float64\n",
            " 8   density               6497 non-null   float64\n",
            " 9   pH                    6488 non-null   float64\n",
            " 10  sulphates             6493 non-null   float64\n",
            " 11  alcohol               6497 non-null   float64\n",
            " 12  quality               6497 non-null   int64  \n",
            "dtypes: float64(11), int64(1), object(1)\n",
            "memory usage: 660.0+ KB\n"
          ]
        }
      ]
    },
    {
      "cell_type": "code",
      "source": [
        "df.describe().T\n"
      ],
      "metadata": {
        "colab": {
          "base_uri": "https://localhost:8080/",
          "height": 426
        },
        "id": "O7FP87iU350J",
        "outputId": "c520501d-0411-425e-9baf-69f9cf5b525d"
      },
      "execution_count": 4,
      "outputs": [
        {
          "output_type": "execute_result",
          "data": {
            "text/plain": [
              "                       count        mean        std      min       25%  \\\n",
              "fixed acidity         6487.0    7.216579   1.296750  3.80000   6.40000   \n",
              "volatile acidity      6489.0    0.339691   0.164649  0.08000   0.23000   \n",
              "citric acid           6494.0    0.318722   0.145265  0.00000   0.25000   \n",
              "residual sugar        6495.0    5.444326   4.758125  0.60000   1.80000   \n",
              "chlorides             6495.0    0.056042   0.035036  0.00900   0.03800   \n",
              "free sulfur dioxide   6497.0   30.525319  17.749400  1.00000  17.00000   \n",
              "total sulfur dioxide  6497.0  115.744574  56.521855  6.00000  77.00000   \n",
              "density               6497.0    0.994697   0.002999  0.98711   0.99234   \n",
              "pH                    6488.0    3.218395   0.160748  2.72000   3.11000   \n",
              "sulphates             6493.0    0.531215   0.148814  0.22000   0.43000   \n",
              "alcohol               6497.0   10.491801   1.192712  8.00000   9.50000   \n",
              "quality               6497.0    5.818378   0.873255  3.00000   5.00000   \n",
              "\n",
              "                            50%        75%        max  \n",
              "fixed acidity           7.00000    7.70000   15.90000  \n",
              "volatile acidity        0.29000    0.40000    1.58000  \n",
              "citric acid             0.31000    0.39000    1.66000  \n",
              "residual sugar          3.00000    8.10000   65.80000  \n",
              "chlorides               0.04700    0.06500    0.61100  \n",
              "free sulfur dioxide    29.00000   41.00000  289.00000  \n",
              "total sulfur dioxide  118.00000  156.00000  440.00000  \n",
              "density                 0.99489    0.99699    1.03898  \n",
              "pH                      3.21000    3.32000    4.01000  \n",
              "sulphates               0.51000    0.60000    2.00000  \n",
              "alcohol                10.30000   11.30000   14.90000  \n",
              "quality                 6.00000    6.00000    9.00000  "
            ],
            "text/html": [
              "\n",
              "  <div id=\"df-389b28d1-b25c-42ae-8965-0d42078d8f30\">\n",
              "    <div class=\"colab-df-container\">\n",
              "      <div>\n",
              "<style scoped>\n",
              "    .dataframe tbody tr th:only-of-type {\n",
              "        vertical-align: middle;\n",
              "    }\n",
              "\n",
              "    .dataframe tbody tr th {\n",
              "        vertical-align: top;\n",
              "    }\n",
              "\n",
              "    .dataframe thead th {\n",
              "        text-align: right;\n",
              "    }\n",
              "</style>\n",
              "<table border=\"1\" class=\"dataframe\">\n",
              "  <thead>\n",
              "    <tr style=\"text-align: right;\">\n",
              "      <th></th>\n",
              "      <th>count</th>\n",
              "      <th>mean</th>\n",
              "      <th>std</th>\n",
              "      <th>min</th>\n",
              "      <th>25%</th>\n",
              "      <th>50%</th>\n",
              "      <th>75%</th>\n",
              "      <th>max</th>\n",
              "    </tr>\n",
              "  </thead>\n",
              "  <tbody>\n",
              "    <tr>\n",
              "      <th>fixed acidity</th>\n",
              "      <td>6487.0</td>\n",
              "      <td>7.216579</td>\n",
              "      <td>1.296750</td>\n",
              "      <td>3.80000</td>\n",
              "      <td>6.40000</td>\n",
              "      <td>7.00000</td>\n",
              "      <td>7.70000</td>\n",
              "      <td>15.90000</td>\n",
              "    </tr>\n",
              "    <tr>\n",
              "      <th>volatile acidity</th>\n",
              "      <td>6489.0</td>\n",
              "      <td>0.339691</td>\n",
              "      <td>0.164649</td>\n",
              "      <td>0.08000</td>\n",
              "      <td>0.23000</td>\n",
              "      <td>0.29000</td>\n",
              "      <td>0.40000</td>\n",
              "      <td>1.58000</td>\n",
              "    </tr>\n",
              "    <tr>\n",
              "      <th>citric acid</th>\n",
              "      <td>6494.0</td>\n",
              "      <td>0.318722</td>\n",
              "      <td>0.145265</td>\n",
              "      <td>0.00000</td>\n",
              "      <td>0.25000</td>\n",
              "      <td>0.31000</td>\n",
              "      <td>0.39000</td>\n",
              "      <td>1.66000</td>\n",
              "    </tr>\n",
              "    <tr>\n",
              "      <th>residual sugar</th>\n",
              "      <td>6495.0</td>\n",
              "      <td>5.444326</td>\n",
              "      <td>4.758125</td>\n",
              "      <td>0.60000</td>\n",
              "      <td>1.80000</td>\n",
              "      <td>3.00000</td>\n",
              "      <td>8.10000</td>\n",
              "      <td>65.80000</td>\n",
              "    </tr>\n",
              "    <tr>\n",
              "      <th>chlorides</th>\n",
              "      <td>6495.0</td>\n",
              "      <td>0.056042</td>\n",
              "      <td>0.035036</td>\n",
              "      <td>0.00900</td>\n",
              "      <td>0.03800</td>\n",
              "      <td>0.04700</td>\n",
              "      <td>0.06500</td>\n",
              "      <td>0.61100</td>\n",
              "    </tr>\n",
              "    <tr>\n",
              "      <th>free sulfur dioxide</th>\n",
              "      <td>6497.0</td>\n",
              "      <td>30.525319</td>\n",
              "      <td>17.749400</td>\n",
              "      <td>1.00000</td>\n",
              "      <td>17.00000</td>\n",
              "      <td>29.00000</td>\n",
              "      <td>41.00000</td>\n",
              "      <td>289.00000</td>\n",
              "    </tr>\n",
              "    <tr>\n",
              "      <th>total sulfur dioxide</th>\n",
              "      <td>6497.0</td>\n",
              "      <td>115.744574</td>\n",
              "      <td>56.521855</td>\n",
              "      <td>6.00000</td>\n",
              "      <td>77.00000</td>\n",
              "      <td>118.00000</td>\n",
              "      <td>156.00000</td>\n",
              "      <td>440.00000</td>\n",
              "    </tr>\n",
              "    <tr>\n",
              "      <th>density</th>\n",
              "      <td>6497.0</td>\n",
              "      <td>0.994697</td>\n",
              "      <td>0.002999</td>\n",
              "      <td>0.98711</td>\n",
              "      <td>0.99234</td>\n",
              "      <td>0.99489</td>\n",
              "      <td>0.99699</td>\n",
              "      <td>1.03898</td>\n",
              "    </tr>\n",
              "    <tr>\n",
              "      <th>pH</th>\n",
              "      <td>6488.0</td>\n",
              "      <td>3.218395</td>\n",
              "      <td>0.160748</td>\n",
              "      <td>2.72000</td>\n",
              "      <td>3.11000</td>\n",
              "      <td>3.21000</td>\n",
              "      <td>3.32000</td>\n",
              "      <td>4.01000</td>\n",
              "    </tr>\n",
              "    <tr>\n",
              "      <th>sulphates</th>\n",
              "      <td>6493.0</td>\n",
              "      <td>0.531215</td>\n",
              "      <td>0.148814</td>\n",
              "      <td>0.22000</td>\n",
              "      <td>0.43000</td>\n",
              "      <td>0.51000</td>\n",
              "      <td>0.60000</td>\n",
              "      <td>2.00000</td>\n",
              "    </tr>\n",
              "    <tr>\n",
              "      <th>alcohol</th>\n",
              "      <td>6497.0</td>\n",
              "      <td>10.491801</td>\n",
              "      <td>1.192712</td>\n",
              "      <td>8.00000</td>\n",
              "      <td>9.50000</td>\n",
              "      <td>10.30000</td>\n",
              "      <td>11.30000</td>\n",
              "      <td>14.90000</td>\n",
              "    </tr>\n",
              "    <tr>\n",
              "      <th>quality</th>\n",
              "      <td>6497.0</td>\n",
              "      <td>5.818378</td>\n",
              "      <td>0.873255</td>\n",
              "      <td>3.00000</td>\n",
              "      <td>5.00000</td>\n",
              "      <td>6.00000</td>\n",
              "      <td>6.00000</td>\n",
              "      <td>9.00000</td>\n",
              "    </tr>\n",
              "  </tbody>\n",
              "</table>\n",
              "</div>\n",
              "      <button class=\"colab-df-convert\" onclick=\"convertToInteractive('df-389b28d1-b25c-42ae-8965-0d42078d8f30')\"\n",
              "              title=\"Convert this dataframe to an interactive table.\"\n",
              "              style=\"display:none;\">\n",
              "        \n",
              "  <svg xmlns=\"http://www.w3.org/2000/svg\" height=\"24px\"viewBox=\"0 0 24 24\"\n",
              "       width=\"24px\">\n",
              "    <path d=\"M0 0h24v24H0V0z\" fill=\"none\"/>\n",
              "    <path d=\"M18.56 5.44l.94 2.06.94-2.06 2.06-.94-2.06-.94-.94-2.06-.94 2.06-2.06.94zm-11 1L8.5 8.5l.94-2.06 2.06-.94-2.06-.94L8.5 2.5l-.94 2.06-2.06.94zm10 10l.94 2.06.94-2.06 2.06-.94-2.06-.94-.94-2.06-.94 2.06-2.06.94z\"/><path d=\"M17.41 7.96l-1.37-1.37c-.4-.4-.92-.59-1.43-.59-.52 0-1.04.2-1.43.59L10.3 9.45l-7.72 7.72c-.78.78-.78 2.05 0 2.83L4 21.41c.39.39.9.59 1.41.59.51 0 1.02-.2 1.41-.59l7.78-7.78 2.81-2.81c.8-.78.8-2.07 0-2.86zM5.41 20L4 18.59l7.72-7.72 1.47 1.35L5.41 20z\"/>\n",
              "  </svg>\n",
              "      </button>\n",
              "      \n",
              "  <style>\n",
              "    .colab-df-container {\n",
              "      display:flex;\n",
              "      flex-wrap:wrap;\n",
              "      gap: 12px;\n",
              "    }\n",
              "\n",
              "    .colab-df-convert {\n",
              "      background-color: #E8F0FE;\n",
              "      border: none;\n",
              "      border-radius: 50%;\n",
              "      cursor: pointer;\n",
              "      display: none;\n",
              "      fill: #1967D2;\n",
              "      height: 32px;\n",
              "      padding: 0 0 0 0;\n",
              "      width: 32px;\n",
              "    }\n",
              "\n",
              "    .colab-df-convert:hover {\n",
              "      background-color: #E2EBFA;\n",
              "      box-shadow: 0px 1px 2px rgba(60, 64, 67, 0.3), 0px 1px 3px 1px rgba(60, 64, 67, 0.15);\n",
              "      fill: #174EA6;\n",
              "    }\n",
              "\n",
              "    [theme=dark] .colab-df-convert {\n",
              "      background-color: #3B4455;\n",
              "      fill: #D2E3FC;\n",
              "    }\n",
              "\n",
              "    [theme=dark] .colab-df-convert:hover {\n",
              "      background-color: #434B5C;\n",
              "      box-shadow: 0px 1px 3px 1px rgba(0, 0, 0, 0.15);\n",
              "      filter: drop-shadow(0px 1px 2px rgba(0, 0, 0, 0.3));\n",
              "      fill: #FFFFFF;\n",
              "    }\n",
              "  </style>\n",
              "\n",
              "      <script>\n",
              "        const buttonEl =\n",
              "          document.querySelector('#df-389b28d1-b25c-42ae-8965-0d42078d8f30 button.colab-df-convert');\n",
              "        buttonEl.style.display =\n",
              "          google.colab.kernel.accessAllowed ? 'block' : 'none';\n",
              "\n",
              "        async function convertToInteractive(key) {\n",
              "          const element = document.querySelector('#df-389b28d1-b25c-42ae-8965-0d42078d8f30');\n",
              "          const dataTable =\n",
              "            await google.colab.kernel.invokeFunction('convertToInteractive',\n",
              "                                                     [key], {});\n",
              "          if (!dataTable) return;\n",
              "\n",
              "          const docLinkHtml = 'Like what you see? Visit the ' +\n",
              "            '<a target=\"_blank\" href=https://colab.research.google.com/notebooks/data_table.ipynb>data table notebook</a>'\n",
              "            + ' to learn more about interactive tables.';\n",
              "          element.innerHTML = '';\n",
              "          dataTable['output_type'] = 'display_data';\n",
              "          await google.colab.output.renderOutput(dataTable, element);\n",
              "          const docLink = document.createElement('div');\n",
              "          docLink.innerHTML = docLinkHtml;\n",
              "          element.appendChild(docLink);\n",
              "        }\n",
              "      </script>\n",
              "    </div>\n",
              "  </div>\n",
              "  "
            ]
          },
          "metadata": {},
          "execution_count": 4
        }
      ]
    },
    {
      "cell_type": "code",
      "source": [
        "df.isnull().sum()\n"
      ],
      "metadata": {
        "colab": {
          "base_uri": "https://localhost:8080/"
        },
        "id": "8cBklzpq3_np",
        "outputId": "de0b7474-42e7-445a-aaaa-7d0863325b3e"
      },
      "execution_count": 5,
      "outputs": [
        {
          "output_type": "execute_result",
          "data": {
            "text/plain": [
              "type                     0\n",
              "fixed acidity           10\n",
              "volatile acidity         8\n",
              "citric acid              3\n",
              "residual sugar           2\n",
              "chlorides                2\n",
              "free sulfur dioxide      0\n",
              "total sulfur dioxide     0\n",
              "density                  0\n",
              "pH                       9\n",
              "sulphates                4\n",
              "alcohol                  0\n",
              "quality                  0\n",
              "dtype: int64"
            ]
          },
          "metadata": {},
          "execution_count": 5
        }
      ]
    },
    {
      "cell_type": "code",
      "source": [
        "for col in df.columns:\n",
        " if df[col].isnull().sum() > 0:\n",
        "    df[col] = df[col].fillna(df[col].mean())\n",
        "\n",
        "df.isnull().sum().sum()\n"
      ],
      "metadata": {
        "colab": {
          "base_uri": "https://localhost:8080/"
        },
        "id": "PTgIgzKx4A6b",
        "outputId": "7adf19f2-d817-4718-c118-bf7b1dc29b8c"
      },
      "execution_count": 8,
      "outputs": [
        {
          "output_type": "execute_result",
          "data": {
            "text/plain": [
              "0"
            ]
          },
          "metadata": {},
          "execution_count": 8
        }
      ]
    },
    {
      "cell_type": "code",
      "source": [
        "df.hist(bins=20, figsize=(10, 10))\n",
        "plt.show()\n"
      ],
      "metadata": {
        "colab": {
          "base_uri": "https://localhost:8080/",
          "height": 607
        },
        "id": "LtA7swwQ4NM5",
        "outputId": "37a323d3-de57-460a-b085-4581224c2a4a"
      },
      "execution_count": 9,
      "outputs": [
        {
          "output_type": "display_data",
          "data": {
            "text/plain": [
              "<Figure size 720x720 with 12 Axes>"
            ],
            "image/png": "[encoded data removed]"
          },
          "metadata": {
            "needs_background": "light"
          }
        }
      ]
    },
    {
      "cell_type": "code",
      "source": [
        "plt.bar(df['quality'], df['alcohol'])\n",
        "plt.xlabel('quality')\n",
        "plt.ylabel('alcohol')\n",
        "plt.show()\n"
      ],
      "metadata": {
        "colab": {
          "base_uri": "https://localhost:8080/",
          "height": 279
        },
        "id": "IiL-ZuMs4Qdq",
        "outputId": "7ecebc7f-f59d-4779-c9aa-86bfe5fea935"
      },
      "execution_count": 10,
      "outputs": [
        {
          "output_type": "display_data",
          "data": {
            "text/plain": [
              "<Figure size 432x288 with 1 Axes>"
            ],
            "image/png": "[encoded data removed]"
          },
          "metadata": {
            "needs_background": "light"
          }
        }
      ]
    },
    {
      "cell_type": "code",
      "source": [
        "plt.figure(figsize=(12, 12))\n",
        "sb.heatmap(df.corr() > 0.7, annot=True, cbar=False)\n",
        "plt.show()\n"
      ],
      "metadata": {
        "colab": {
          "base_uri": "https://localhost:8080/",
          "height": 784
        },
        "id": "NQ4KjZqn4Wc4",
        "outputId": "f14456c4-96c3-4b7c-b014-089483517d2a"
      },
      "execution_count": 11,
      "outputs": [
        {
          "output_type": "display_data",
          "data": {
            "text/plain": [
              "<Figure size 864x864 with 1 Axes>"
            ],
            "image/png": "[encoded data removed]"
          },
          "metadata": {
            "needs_background": "light"
          }
        }
      ]
    },
    {
      "cell_type": "code",
      "source": [
        "df = df.drop('total sulfur dioxide', axis=1)\n"
      ],
      "metadata": {
        "id": "0f5ZuanC4dBJ"
      },
      "execution_count": 12,
      "outputs": []
    },
    {
      "cell_type": "code",
      "source": [
        "df['best quality'] = [1 if x > 5 else 0 for x in df.quality]\n"
      ],
      "metadata": {
        "id": "QVy7xt4o4eJ6"
      },
      "execution_count": 13,
      "outputs": []
    },
    {
      "cell_type": "code",
      "source": [
        "df.replace({'white': 1, 'red': 0}, inplace=True)\n"
      ],
      "metadata": {
        "id": "bVV5VXSG4i7Z"
      },
      "execution_count": 14,
      "outputs": []
    },
    {
      "cell_type": "code",
      "source": [
        "features = df.drop(['quality', 'best quality'], axis=1)\n",
        "target = df['best quality']\n",
        "\n",
        "xtrain, xtest, ytrain, ytest = train_test_split(\n",
        "\tfeatures, target, test_size=0.2, random_state=40)\n",
        "\n",
        "xtrain.shape, xtest.shape\n"
      ],
      "metadata": {
        "colab": {
          "base_uri": "https://localhost:8080/"
        },
        "id": "D9H8eRQL4nvB",
        "outputId": "e6a67ba9-9a56-435f-e85d-87b5f2852c87"
      },
      "execution_count": 15,
      "outputs": [
        {
          "output_type": "execute_result",
          "data": {
            "text/plain": [
              "((5197, 11), (1300, 11))"
            ]
          },
          "metadata": {},
          "execution_count": 15
        }
      ]
    },
    {
      "cell_type": "code",
      "source": [
        "norm = MinMaxScaler()\n",
        "xtrain = norm.fit_transform(xtrain)\n",
        "xtest = norm.transform(xtest)\n"
      ],
      "metadata": {
        "id": "0DcZzdaM4qN4"
      },
      "execution_count": 16,
      "outputs": []
    },
    {
      "cell_type": "code",
      "source": [
        "models = [LogisticRegression(), XGBClassifier(), SVC(kernel='rbf')]\n",
        "\n",
        "for i in range(3):\n",
        "\tmodels[i].fit(xtrain, ytrain)\n",
        "\n",
        "\tprint(f'{models[i]} : ')\n",
        "\tprint('Training Accuracy : ', metrics.roc_auc_score(ytrain, models[i].predict(xtrain)))\n",
        "\tprint('Validation Accuracy : ', metrics.roc_auc_score(\n",
        "\t\tytest, models[i].predict(xtest)))\n",
        "\tprint()\n"
      ],
      "metadata": {
        "colab": {
          "base_uri": "https://localhost:8080/"
        },
        "id": "JoIf8QQw45WB",
        "outputId": "03c94dfc-dc42-4474-8e7e-1eb4770bcb9a"
      },
      "execution_count": 17,
      "outputs": [
        {
          "output_type": "stream",
          "name": "stdout",
          "text": [
            "LogisticRegression() : \n",
            "Training Accuracy :  0.7019709565048414\n",
            "Validation Accuracy :  0.6937888865050418\n",
            "\n",
            "XGBClassifier() : \n",
            "Training Accuracy :  0.7665704337410423\n",
            "Validation Accuracy :  0.7224257005956211\n",
            "\n",
            "SVC() : \n",
            "Training Accuracy :  0.7069199304892986\n",
            "Validation Accuracy :  0.695796426272719\n",
            "\n"
          ]
        }
      ]
    },
    {
      "cell_type": "code",
      "source": [
        "metrics.plot_confusion_matrix(models[1], xtest, ytest)\n",
        "plt.show()\n"
      ],
      "metadata": {
        "colab": {
          "base_uri": "https://localhost:8080/",
          "height": 280
        },
        "id": "OtLu4sUE48kx",
        "outputId": "95154c7b-9c02-491e-8c4e-c4084adffc24"
      },
      "execution_count": 18,
      "outputs": [
        {
          "output_type": "display_data",
          "data": {
            "text/plain": [
              "<Figure size 432x288 with 2 Axes>"
            ],
            "image/png": "[encoded data removed]"
          },
          "metadata": {
            "needs_background": "light"
          }
        }
      ]
    }
  ]
}