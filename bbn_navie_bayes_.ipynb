{
  "nbformat": 4,
  "nbformat_minor": 0,
  "metadata": {
    "colab": {
      "provenance": [],
      "toc_visible": true,
      "authorship_tag": "ABX9TyNigRd2vFswG9FuiqeCWn8Y",
      "include_colab_link": true
    },
    "kernelspec": {
      "name": "python3",
      "display_name": "Python 3"
    },
    "language_info": {
      "name": "python"
    }
  },
  "cells": [
    {
      "cell_type": "markdown",
      "metadata": {
        "id": "view-in-github",
        "colab_type": "text"
      },
      "source": [
        "<a href=\"https://colab.research.google.com/github/darkknightraj/machinelearning/blob/main/bbn_navie_bayes_.ipynb\" target=\"_parent\"><img src=\"https://colab.research.google.com/assets/colab-badge.svg\" alt=\"Open In Colab\"/></a>"
      ]
    },
    {
      "cell_type": "code",
      "source": [
        "import numpy as np\n",
        "import matplotlib.pyplot as plt\n",
        "\n",
        "import pandas as pd \n",
        "import seaborn as sns\n",
        "dataset = pd.read_csv('//content//Naive-Bayes-Classification-Data.csv')\n",
        "X = dataset.iloc[:, [0,1]].values \n",
        "y = dataset.iloc[:, 2].values\n"
      ],
      "metadata": {
        "id": "qBc_1ESNVdOl"
      },
      "execution_count": 10,
      "outputs": []
    },
    {
      "cell_type": "code",
      "source": [
        "from sklearn.model_selection import train_test_split\n",
        "X_train, X_test, y_train, y_test =train_test_split(X,y,test_size= 0.25, random_state=0)\n",
        "from  sklearn.preprocessing import StandardScaler\n",
        "sc_X = StandardScaler()\n",
        "X_train = sc_X.fit_transform(X_train) \n",
        "X_test = sc_X.fit_transform(X_test)"
      ],
      "metadata": {
        "id": "Vb8H5w_x9lm6"
      },
      "execution_count": 11,
      "outputs": []
    },
    {
      "cell_type": "code",
      "source": [
        "from sklearn.naive_bayes import BernoulliNB \n",
        "classifer = BernoulliNB()\n",
        "classifer.fit(X_train, y_train) \n",
        "y_pred = classifer.predict(X_test)\n",
        "from sklearn.metrics import accuracy_score \n",
        "print(accuracy_score(y_pred, y_test)) \n"
      ],
      "metadata": {
        "colab": {
          "base_uri": "https://localhost:8080/"
        },
        "id": "X9v9Ri6d9q4E",
        "outputId": "e86f92fd-5d88-4954-c0a7-724c9dee6ac3"
      },
      "execution_count": 12,
      "outputs": [
        {
          "output_type": "stream",
          "name": "stdout",
          "text": [
            "0.8714859437751004\n"
          ]
        }
      ]
    },
    {
      "cell_type": "code",
      "source": [
        "import seaborn as sns\n",
        "from sklearn.metrics import confusion_matrix \n",
        "cm = confusion_matrix(y_test, y_pred) \n",
        "sns.heatmap(cm, annot=True)\n",
        "from sklearn.metrics import classification_report \n",
        "print(classification_report(y_test, y_pred))\n",
        "cm1 = confusion_matrix(y_test, y_pred)\n",
        "sns.heatmap(cm1,annot=True) \n",
        "print(classification_report(y_test, y_pred))"
      ],
      "metadata": {
        "colab": {
          "base_uri": "https://localhost:8080/",
          "height": 577
        },
        "id": "8ikLWPFx313b",
        "outputId": "b64aadbf-a4dd-4256-e976-ba77198829b7"
      },
      "execution_count": 14,
      "outputs": [
        {
          "output_type": "stream",
          "name": "stdout",
          "text": [
            "              precision    recall  f1-score   support\n",
            "\n",
            "           0       0.78      0.97      0.86       104\n",
            "           1       0.97      0.80      0.88       145\n",
            "\n",
            "    accuracy                           0.87       249\n",
            "   macro avg       0.88      0.89      0.87       249\n",
            "weighted avg       0.89      0.87      0.87       249\n",
            "\n",
            "              precision    recall  f1-score   support\n",
            "\n",
            "           0       0.78      0.97      0.86       104\n",
            "           1       0.97      0.80      0.88       145\n",
            "\n",
            "    accuracy                           0.87       249\n",
            "   macro avg       0.88      0.89      0.87       249\n",
            "weighted avg       0.89      0.87      0.87       249\n",
            "\n"
          ]
        },
        {
          "output_type": "display_data",
          "data": {
            "text/plain": [
              "<Figure size 432x288 with 3 Axes>"
            ],
            "image/png": "[encoded data removed]"
          },
          "metadata": {
            "needs_background": "light"
          }
        }
      ]
    }
  ]
}