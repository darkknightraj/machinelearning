{
  "nbformat": 4,
  "nbformat_minor": 0,
  "metadata": {
    "colab": {
      "provenance": [],
      "authorship_tag": "ABX9TyOKk8/n86o6MhXxOb3zcdBW",
      "include_colab_link": true
    },
    "kernelspec": {
      "name": "python3",
      "display_name": "Python 3"
    },
    "language_info": {
      "name": "python"
    }
  },
  "cells": [
    {
      "cell_type": "markdown",
      "metadata": {
        "id": "view-in-github",
        "colab_type": "text"
      },
      "source": [
        "<a href=\"https://colab.research.google.com/github/darkknightraj/machinelearning/blob/main/depth_first_search.ipynb\" target=\"_parent\"><img src=\"https://colab.research.google.com/assets/colab-badge.svg\" alt=\"Open In Colab\"/></a>"
      ]
    },
    {
      "cell_type": "code",
      "execution_count": 1,
      "metadata": {
        "colab": {
          "base_uri": "https://localhost:8080/"
        },
        "id": "_N1KlfLwzkWR",
        "outputId": "0db7026c-bde4-429d-e5a7-79453fb0e893"
      },
      "outputs": [
        {
          "output_type": "stream",
          "name": "stdout",
          "text": [
            "0\n",
            "2\n",
            "1\n",
            "3\n",
            "4\n"
          ]
        },
        {
          "output_type": "execute_result",
          "data": {
            "text/plain": [
              "{'0', '1', '2', '3', '4'}"
            ]
          },
          "metadata": {},
          "execution_count": 1
        }
      ],
      "source": [
        "\n",
        "\n",
        "\n",
        "# DFS algorithm\n",
        "def dfs(graph, start, visited=None):\n",
        "    if visited is None:\n",
        "        visited = set()\n",
        "    visited.add(start)\n",
        "\n",
        "    print(start)\n",
        "\n",
        "    for next in graph[start] - visited:\n",
        "        dfs(graph, next, visited)\n",
        "    return visited\n",
        "\n",
        "\n",
        "graph = {'0': set(['1', '2']),\n",
        "         '1': set(['0', '3', '4']),\n",
        "         '2': set(['0']),\n",
        "         '3': set(['1']),\n",
        "         '4': set(['2', '3'])}\n",
        "\n",
        "dfs(graph, '0')"
      ]
    }
  ]
}